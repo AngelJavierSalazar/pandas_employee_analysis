{
 "cells": [
  {
   "cell_type": "code",
   "execution_count": 2,
   "id": "29b7c280",
   "metadata": {},
   "outputs": [],
   "source": [
    "import pandas as pd"
   ]
  },
  {
   "cell_type": "code",
   "execution_count": 3,
   "id": "dcc0a3ef",
   "metadata": {},
   "outputs": [],
   "source": [
    "import json"
   ]
  },
  {
   "cell_type": "code",
   "execution_count": 4,
   "id": "bf973cd1",
   "metadata": {},
   "outputs": [],
   "source": [
    "df = pd.read_json('data.json')"
   ]
  },
  {
   "cell_type": "code",
   "execution_count": 5,
   "id": "8a50620a",
   "metadata": {},
   "outputs": [
    {
     "data": {
      "text/html": [
       "<div>\n",
       "<style scoped>\n",
       "    .dataframe tbody tr th:only-of-type {\n",
       "        vertical-align: middle;\n",
       "    }\n",
       "\n",
       "    .dataframe tbody tr th {\n",
       "        vertical-align: top;\n",
       "    }\n",
       "\n",
       "    .dataframe thead th {\n",
       "        text-align: right;\n",
       "    }\n",
       "</style>\n",
       "<table border=\"1\" class=\"dataframe\">\n",
       "  <thead>\n",
       "    <tr style=\"text-align: right;\">\n",
       "      <th></th>\n",
       "      <th>id</th>\n",
       "      <th>first_name</th>\n",
       "      <th>last_name</th>\n",
       "      <th>email</th>\n",
       "      <th>gender</th>\n",
       "      <th>date_of_birth</th>\n",
       "      <th>industry</th>\n",
       "      <th>salary</th>\n",
       "      <th>years_of_experience</th>\n",
       "    </tr>\n",
       "  </thead>\n",
       "  <tbody>\n",
       "    <tr>\n",
       "      <th>0</th>\n",
       "      <td>1</td>\n",
       "      <td>Annmarie</td>\n",
       "      <td>Crooke</td>\n",
       "      <td>acrooke0@gizmodo.com</td>\n",
       "      <td>None</td>\n",
       "      <td>09/07/1978</td>\n",
       "      <td>Other Specialty Stores</td>\n",
       "      <td>180466.37</td>\n",
       "      <td>10.0</td>\n",
       "    </tr>\n",
       "    <tr>\n",
       "      <th>1</th>\n",
       "      <td>2</td>\n",
       "      <td>Morrie</td>\n",
       "      <td>Lahive</td>\n",
       "      <td>mlahive1@imdb.com</td>\n",
       "      <td>None</td>\n",
       "      <td>20/04/1948</td>\n",
       "      <td>Diversified Financial Services</td>\n",
       "      <td>239640.00</td>\n",
       "      <td>6.0</td>\n",
       "    </tr>\n",
       "    <tr>\n",
       "      <th>2</th>\n",
       "      <td>3</td>\n",
       "      <td>Matthias</td>\n",
       "      <td>Roden</td>\n",
       "      <td>mroden2@abc.net.au</td>\n",
       "      <td>M</td>\n",
       "      <td>30/11/1998</td>\n",
       "      <td>Metal Fabrications</td>\n",
       "      <td>139679.79</td>\n",
       "      <td>31.0</td>\n",
       "    </tr>\n",
       "    <tr>\n",
       "      <th>3</th>\n",
       "      <td>4</td>\n",
       "      <td>Madelin</td>\n",
       "      <td>Domke</td>\n",
       "      <td>mdomke3@mozilla.com</td>\n",
       "      <td>None</td>\n",
       "      <td>05/05/1979</td>\n",
       "      <td>n/a</td>\n",
       "      <td>196786.25</td>\n",
       "      <td>12.0</td>\n",
       "    </tr>\n",
       "    <tr>\n",
       "      <th>4</th>\n",
       "      <td>5</td>\n",
       "      <td>Thain</td>\n",
       "      <td>Souter</td>\n",
       "      <td>tsouter4@cisco.com</td>\n",
       "      <td>M</td>\n",
       "      <td>03/08/2002</td>\n",
       "      <td>n/a</td>\n",
       "      <td>140291.87</td>\n",
       "      <td>28.0</td>\n",
       "    </tr>\n",
       "  </tbody>\n",
       "</table>\n",
       "</div>"
      ],
      "text/plain": [
       "   id first_name last_name                 email gender date_of_birth  \\\n",
       "0   1   Annmarie    Crooke  acrooke0@gizmodo.com   None    09/07/1978   \n",
       "1   2     Morrie    Lahive     mlahive1@imdb.com   None    20/04/1948   \n",
       "2   3   Matthias     Roden    mroden2@abc.net.au      M    30/11/1998   \n",
       "3   4    Madelin     Domke   mdomke3@mozilla.com   None    05/05/1979   \n",
       "4   5      Thain    Souter    tsouter4@cisco.com      M    03/08/2002   \n",
       "\n",
       "                         industry     salary  years_of_experience  \n",
       "0          Other Specialty Stores  180466.37                 10.0  \n",
       "1  Diversified Financial Services  239640.00                  6.0  \n",
       "2              Metal Fabrications  139679.79                 31.0  \n",
       "3                             n/a  196786.25                 12.0  \n",
       "4                             n/a  140291.87                 28.0  "
      ]
     },
     "execution_count": 5,
     "metadata": {},
     "output_type": "execute_result"
    }
   ],
   "source": [
    "df.head()\n"
   ]
  },
  {
   "cell_type": "code",
   "execution_count": 17,
   "id": "7fd5447b",
   "metadata": {},
   "outputs": [
    {
     "data": {
      "text/plain": [
       "industry\n",
       "Books                                                      34.000000\n",
       "Precision Instruments                                      29.500000\n",
       "Paints/Coatings                                            29.000000\n",
       "Building operators                                         28.666667\n",
       "Oil/Gas Transmission                                       28.000000\n",
       "                                                             ...    \n",
       "Other Pharmaceuticals                                      11.000000\n",
       "Biotechnology: Commercial Physical & Biological Resarch    10.166667\n",
       "Food Distributors                                          10.000000\n",
       "Biotechnology: In Vitro & In Vivo Diagnostic Substances    10.000000\n",
       "Diversified Electronic Products                             8.000000\n",
       "Name: years_of_experience, Length: 128, dtype: float64"
      ]
     },
     "execution_count": 17,
     "metadata": {},
     "output_type": "execute_result"
    }
   ],
   "source": [
    "df.groupby('industry')['years_of_experience'].mean().sort_values(ascending=False)"
   ]
  },
  {
   "cell_type": "code",
   "execution_count": 16,
   "id": "edf9dbff",
   "metadata": {},
   "outputs": [
    {
     "data": {
      "text/plain": [
       "industry\n",
       "Major Chemicals                            35.0\n",
       "Computer Software: Prepackaged Software    35.0\n",
       "Computer peripheral equipment              35.0\n",
       "Diversified Financial Services             35.0\n",
       "EDP Services                               35.0\n",
       "                                           ... \n",
       "Ordnance And Accessories                   15.0\n",
       "Pollution Control Equipment                14.0\n",
       "Tools/Hardware                             14.0\n",
       "Other Pharmaceuticals                      11.0\n",
       "Diversified Electronic Products             8.0\n",
       "Name: years_of_experience, Length: 128, dtype: float64"
      ]
     },
     "execution_count": 16,
     "metadata": {},
     "output_type": "execute_result"
    }
   ],
   "source": [
    "df.groupby('industry')['years_of_experience'].max().sort_values(ascending=False)"
   ]
  },
  {
   "cell_type": "code",
   "execution_count": 18,
   "id": "149c2e46",
   "metadata": {},
   "outputs": [
    {
     "data": {
      "text/plain": [
       "industry\n",
       "Package Goods/Cosmetics                             225911.040000\n",
       "Oil/Gas Transmission                                216387.570000\n",
       "Tools/Hardware                                      211104.490000\n",
       "Motor Vehicles                                      195850.293333\n",
       "Textiles                                            195268.585000\n",
       "                                                        ...      \n",
       "Recreational Products/Toys                           69022.200000\n",
       "Retail: Computer Software & Peripheral Equipment     39419.270000\n",
       "Books                                                37566.690000\n",
       "Pollution Control Equipment                          36684.770000\n",
       "Ordnance And Accessories                             31997.990000\n",
       "Name: salary, Length: 128, dtype: float64"
      ]
     },
     "execution_count": 18,
     "metadata": {},
     "output_type": "execute_result"
    }
   ],
   "source": [
    "df.groupby('industry')[\"salary\"].mean().sort_values(ascending=False)"
   ]
  },
  {
   "cell_type": "code",
   "execution_count": 19,
   "id": "0bf8bd9a",
   "metadata": {},
   "outputs": [
    {
     "data": {
      "text/plain": [
       "industry\n",
       "Major Banks                                         249908.00\n",
       "Consumer Specialties                                249904.11\n",
       "Power Generation                                    249775.33\n",
       "EDP Services                                        249689.93\n",
       "Major Pharmaceuticals                               249634.31\n",
       "                                                      ...    \n",
       "Paints/Coatings                                      81038.53\n",
       "Retail: Computer Software & Peripheral Equipment     46895.42\n",
       "Books                                                37566.69\n",
       "Pollution Control Equipment                          36684.77\n",
       "Ordnance And Accessories                             31997.99\n",
       "Name: salary, Length: 128, dtype: float64"
      ]
     },
     "execution_count": 19,
     "metadata": {},
     "output_type": "execute_result"
    }
   ],
   "source": [
    "df.groupby('industry')[\"salary\"].max().sort_values(ascending=False)"
   ]
  },
  {
   "cell_type": "code",
   "execution_count": 28,
   "id": "4401497f",
   "metadata": {},
   "outputs": [
    {
     "data": {
      "text/plain": [
       "industry                                 years_of_experience\n",
       "Commercial Banks                         16.0                    30132.93\n",
       "Other Specialty Stores                   2.0                     30471.98\n",
       "Restaurants                              12.0                    30481.76\n",
       "Computer Software: Prepackaged Software  22.0                    30906.61\n",
       "Electrical Products                      2.0                     30910.58\n",
       "                                                                  ...    \n",
       "Environmental Services                   23.0                   249428.38\n",
       "Consumer Specialties                     31.0                   249488.69\n",
       "Building Materials                       6.0                    249613.50\n",
       "Power Generation                         17.0                   249775.33\n",
       "Consumer Specialties                     21.0                   249904.11\n",
       "Name: salary, Length: 1306, dtype: float64"
      ]
     },
     "execution_count": 28,
     "metadata": {},
     "output_type": "execute_result"
    }
   ],
   "source": [
    "df.groupby(['industry','years_of_experience'])[\"salary\"].mean().sort_values()"
   ]
  },
  {
   "cell_type": "code",
   "execution_count": null,
   "id": "e400a0ae",
   "metadata": {},
   "outputs": [],
   "source": []
  }
 ],
 "metadata": {
  "kernelspec": {
   "display_name": "Python 3 (ipykernel)",
   "language": "python",
   "name": "python3"
  },
  "language_info": {
   "codemirror_mode": {
    "name": "ipython",
    "version": 3
   },
   "file_extension": ".py",
   "mimetype": "text/x-python",
   "name": "python",
   "nbconvert_exporter": "python",
   "pygments_lexer": "ipython3",
   "version": "3.9.10"
  }
 },
 "nbformat": 4,
 "nbformat_minor": 5
}
